{
  "nbformat": 4,
  "nbformat_minor": 0,
  "metadata": {
    "colab": {
      "provenance": [],
      "authorship_tag": "ABX9TyNUoMejHbytK3bXhI7unRuU",
      "include_colab_link": true
    },
    "kernelspec": {
      "name": "python3",
      "display_name": "Python 3"
    },
    "language_info": {
      "name": "python"
    }
  },
  "cells": [
    {
      "cell_type": "markdown",
      "metadata": {
        "id": "view-in-github",
        "colab_type": "text"
      },
      "source": [
        "<a href=\"https://colab.research.google.com/github/RGanesh2703/Diabetes-Prediction-by-ANN/blob/main/diabetes_ANN.ipynb\" target=\"_parent\"><img src=\"https://colab.research.google.com/assets/colab-badge.svg\" alt=\"Open In Colab\"/></a>"
      ]
    },
    {
      "cell_type": "code",
      "execution_count": null,
      "metadata": {
        "id": "cY0tVjLWopnG"
      },
      "outputs": [],
      "source": [
        "import pandas as pd\n",
        "import numpy as np"
      ]
    },
    {
      "cell_type": "code",
      "source": [
        "data = pd.read_csv('diabetes.csv')\n",
        "x = data.iloc[:,0:8]\n",
        "y = data.iloc[:,8]"
      ],
      "metadata": {
        "id": "FphWM0-zpm1o"
      },
      "execution_count": null,
      "outputs": []
    },
    {
      "cell_type": "code",
      "source": [
        "from sklearn.model_selection import train_test_split\n",
        "x_train, x_test, y_train, y_test = train_test_split(x, y, test_size=0.2,random_state=0)"
      ],
      "metadata": {
        "id": "f2Hl5j2rqXxU"
      },
      "execution_count": null,
      "outputs": []
    },
    {
      "cell_type": "code",
      "source": [
        "from sklearn.preprocessing import StandardScaler\n",
        "sc = StandardScaler()\n",
        "x_train = sc.fit_transform(x_train)\n",
        "x_test = sc.transform(x_test)"
      ],
      "metadata": {
        "id": "jCbLkspeLEvZ"
      },
      "execution_count": null,
      "outputs": []
    },
    {
      "cell_type": "code",
      "source": [
        "import keras\n",
        "from keras.models import Sequential\n",
        "from keras.layers import Dense"
      ],
      "metadata": {
        "id": "hPLe1zXCLtox"
      },
      "execution_count": null,
      "outputs": []
    },
    {
      "cell_type": "code",
      "source": [
        "model = Sequential()"
      ],
      "metadata": {
        "id": "iNusg2yPMUf9"
      },
      "execution_count": null,
      "outputs": []
    },
    {
      "cell_type": "code",
      "source": [
        "model.add(Dense(8, activation='relu', kernel_initializer='he_uniform', input_dim=8))"
      ],
      "metadata": {
        "id": "Swr8IIAaMa74"
      },
      "execution_count": null,
      "outputs": []
    },
    {
      "cell_type": "code",
      "source": [
        "model.add(Dense(8, activation='relu', kernel_initializer='he_uniform'))"
      ],
      "metadata": {
        "id": "qalWb_jcM8IC"
      },
      "execution_count": null,
      "outputs": []
    },
    {
      "cell_type": "code",
      "source": [
        "model.add(Dense(1, activation='sigmoid', kernel_initializer='glorot_uniform'))"
      ],
      "metadata": {
        "id": "-oQhhiJBNN05"
      },
      "execution_count": null,
      "outputs": []
    },
    {
      "cell_type": "code",
      "source": [
        "model.compile(optimizer='adam',loss='binary_crossentropy',metrics=['accuracy'])"
      ],
      "metadata": {
        "id": "-vua_ih3NiAh"
      },
      "execution_count": null,
      "outputs": []
    },
    {
      "cell_type": "code",
      "source": [
        "model_his = model.fit(x_train, y_train, validation_split=0.3, batch_size=10, epochs=100)"
      ],
      "metadata": {
        "id": "ik6g9JGeN3EV"
      },
      "execution_count": null,
      "outputs": []
    },
    {
      "cell_type": "code",
      "source": [
        "model.summary()"
      ],
      "metadata": {
        "id": "VFnKBmAyOThw"
      },
      "execution_count": null,
      "outputs": []
    },
    {
      "cell_type": "code",
      "source": [
        "y_pred = model.predict(x_test)\n",
        "y_pred = (y_pred > 0.5)"
      ],
      "metadata": {
        "id": "Z8nAgo2AQiu1"
      },
      "execution_count": null,
      "outputs": []
    },
    {
      "cell_type": "code",
      "source": [
        "from sklearn.metrics import confusion_matrix\n",
        "cm = confusion_matrix(y_test, y_pred)\n",
        "# print(cm)"
      ],
      "metadata": {
        "id": "mSnk2HGbQ6I5"
      },
      "execution_count": null,
      "outputs": []
    },
    {
      "cell_type": "code",
      "source": [
        "from sklearn.metrics import accuracy_score\n",
        "score=accuracy_score(y_pred, y_test)\n",
        "print(score)"
      ],
      "metadata": {
        "id": "8D_bA1UlRjfm"
      },
      "execution_count": null,
      "outputs": []
    },
    {
      "cell_type": "markdown",
      "source": [
        "Predicting"
      ],
      "metadata": {
        "id": "3YsOM9d5hRSp"
      }
    },
    {
      "cell_type": "code",
      "source": [
        "Pregnancies = int(input(\"Pregnancies:\"))\n",
        "Glucose = int(input(\"Glucose:\"))\n",
        "BloodPressure = int(input(\"BloodPressure:\"))\n",
        "SkinThickness = int(input(\"SkinThickness:\"))\n",
        "Insulin = int(input(\"Insulin:\"))\n",
        "BMI = float(input(\"BMI:\"))\n",
        "DiabetesPedigreeFunction = float(input(\"DiabetesPedigreeFunction:\"))\n",
        "Age = int(input(\"Age:\"))\n",
        "\n",
        "new_data = np.array([[Pregnancies, Glucose, BloodPressure, SkinThickness, Insulin, BMI, DiabetesPedigreeFunction, Age]])\n",
        "\n",
        "pred = model.predict(new_data)\n",
        "print(pred)\n",
        "pred = (pred > 0.5)\n",
        "\n",
        "print(\"Diabetes:\",pred)\n"
      ],
      "metadata": {
        "id": "LwsHPKa4hQKu"
      },
      "execution_count": null,
      "outputs": []
    }
  ]
}